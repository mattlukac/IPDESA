{
 "cells": [
  {
   "cell_type": "markdown",
   "metadata": {},
   "source": [
    "# Adjoint Method for Gradient Descent"
   ]
  },
  {
   "cell_type": "markdown",
   "metadata": {},
   "source": [
    "## Goal\n",
    "In the final layer of this autoencoder we solve a PDE\n",
    "governed by parameters $\\theta$ and use a loss functional \n",
    "$\\mathcal{L}$ to compare the solution $u$ to the \n",
    "(possibly noisy) observations $u_\\text{obs}$ of the \n",
    "phenomenon modeled by the PDE.\n",
    "We would like to use gradient descent to minimize \n",
    "$\\mathcal{L}$ subject to the constraint of the PDE.\n",
    "To perform backpropagation we need to compute \n",
    "$\\frac{d\\mathcal{L}}{d\\theta}$,\n",
    "i.e. the gradient of the loss with respect to $\\theta$.\n",
    "\n",
    "We do this via the _adjoint method_. \n",
    "In short, the adjoint method requires us to first fix a loss functional,\n",
    "and then efficiently compute \n",
    "$\\frac{d\\mathcal{L}}{d\\theta}$ for any $\\theta$.\n",
    "This is particularly useful when there are many parameters,\n",
    "in contrast to the tangent linear approach, which \n",
    "fixes $\\theta$ first then computes the gradient for any loss functional."
   ]
  },
  {
   "cell_type": "markdown",
   "metadata": {},
   "source": [
    "## Notation\n",
    "In what follows the notation for derivative will be contextual.\n",
    "Let $u$ and $v$ denote functions and $\\theta$ denote parameters.\n",
    "Let $F(u,\\theta)$ and $L(u,\\theta)$ denote a differential operator \n",
    "and a functional, respectively.\n",
    "The directional derivative of $F$ at the point $u$ in the direction of $v$\n",
    "will be written as $\\frac{\\partial F(u)}{\\partial v}$ and defined to be\n",
    "\n",
    "$$\n",
    "    \\frac{\\partial F(u)}{\\partial v} = \\lim_{h \\to 0}\\frac{F(u+hv) - F(u)}{h}\n",
    "$$\n",
    "\n",
    "where $h$ is a scalar.\n",
    "\n",
    "The functional derivative of $L$ with respect to the function $x$\n",
    "will be written as $\\frac{\\partial L}{\\partial u}$ and defined to be\n",
    "\n",
    "$$\n",
    "    \\frac{\\partial L}{\\partial u} = \\lim_{h \\to 0}\\frac{L(u + h) - L(u)}{h}\n",
    "$$\n",
    "\n",
    "where $\\lim_{h\\to 0}$ means $h$ is a sequence of functions whose $L^1$\n",
    "norm converges to 0."
   ]
  },
  {
   "cell_type": "markdown",
   "metadata": {},
   "source": [
    "## The Adjoint Approach"
   ]
  },
  {
   "cell_type": "markdown",
   "metadata": {},
   "source": [
    "Let $u$ be the solution to a PDE governed by parameters $\\theta$.\n",
    "Write the PDE as \n",
    "\n",
    "\\begin{equation}\\label{pde}\n",
    "    F(u,\\theta) = 0.\n",
    "\\end{equation}\n",
    "\n",
    "The above equation makes $u$ an implicit function of $\\theta$,\n",
    "so write $u = u_\\theta$.\n",
    "Now, solving the PDE provides the map $\\theta \\mapsto u_\\theta$,\n",
    "thus the loss function can be written purely as a function of $\\theta$:\n",
    "\n",
    "$$\n",
    "    \\mathcal{L}(\\theta) := L(u_\\theta, \\theta)\n",
    "$$\n",
    "\n",
    "The backpropagation algorithm needs to compute $\\frac{d\\mathcal{L}}{d\\theta}$.\n",
    "By the chain rule,\n",
    "\n",
    "$$\n",
    "    \\frac{d\\mathcal{L}}{d\\theta} = \\frac{d}{d\\theta} L(u, \\theta)\n",
    "        = \\frac{\\partial L}{\\partial u} \\frac{du}{d\\theta} + \\frac{\\partial L}{\\partial\\theta}.\n",
    "$$\n",
    "\n",
    "In the current setting we have the observed data $u_\\text{obs}$ \n",
    "and we define the $L^2$ loss functional as \n",
    "$L(u, \\theta) = \\| u - u_\\text{obs} \\|_2^2$,\n",
    "thus $\\frac{\\partial L}{\\partial\\theta} = 0$.\n",
    "It is straightforward to compute $\\frac{\\partial L}{\\partial u}$, \n",
    "but without an analytic solution to \\eqref{pde} the term \n",
    "$\\frac{du}{d\\theta}$ is intractable.\n",
    "__To summarize, the desired gradient is__\n",
    "\n",
    "\\begin{equation}\\label{gradient}\n",
    "    \\frac{d\\mathcal{L}}{d\\theta} = \\frac{\\partial L}{\\partial u} \\frac{du}{d\\theta}\n",
    "\\end{equation}\n",
    "\n",
    "__and we need to find an indirect way to compute__ $\\frac{du}{d\\theta}$.\n",
    "\n",
    "Let us return to \\eqref{pde} and consider its gradient in the direction of $\\theta$.\n",
    "That is, \n",
    "\n",
    "$$\n",
    "\\begin{equation}\\label{opgrad}\n",
    "    0 = \\frac{d}{d\\theta} F(u, \\theta) = \n",
    "        \\frac{\\partial F}{\\partial u} \\frac{du}{d\\theta} + \\frac{\\partial F}{\\partial \\theta}.\n",
    "\\end{equation}\n",
    "$$\n",
    "\n",
    "We will assume $\\frac{\\partial F}{\\partial u}$ is invertible\n",
    "and solve \\eqref{opgrad} for $\\frac{du}{d\\theta}$ to obtain\n",
    "\n",
    "$$\n",
    "    \\frac{du}{d\\theta} = -\\left( \\frac{\\partial F}{\\partial u} \\right)^{-1} \\frac{\\partial F}{\\partial \\theta}.\n",
    "$$\n",
    "\n",
    "Substituting this into \\eqref{gradient} gives\n",
    "\n",
    "$$\n",
    "    \\frac{d\\mathcal{L}}{d\\theta} \n",
    "        = -\\frac{\\partial L}{\\partial u} \\left( \\frac{\\partial F}{\\partial u} \\right)^{-1} \\frac{\\partial F}{\\partial \\theta}.\n",
    "$$\n",
    "\n",
    "Taking the conjugate transpose, or adjoint, of the above equation yields\n",
    "\n",
    "$$\n",
    "\\begin{equation}\\label{conjgrad}\n",
    "    \\frac{d\\mathcal{L}}{d\\theta}^* = -\\frac{\\partial F}{\\partial \\theta}^* \\left( \\frac{\\partial F}{\\partial u} \\right)^{-*} \\frac{\\partial L}{\\partial u}^*.\n",
    "\\end{equation}\n",
    "$$\n",
    "\n",
    "Now call $v$ the _adjoint variable associated with_ $u$,\n",
    "defined to be the solution to the equation\n",
    "\n",
    "$$\n",
    "    \\frac{\\partial F}{\\partial u}^{*} v = \\frac{\\partial L}{\\partial u}^*.\n",
    "$$\n",
    "\n",
    "Thus, the desired gradient $\\frac{d\\mathcal{L}}{d\\theta}$ \n",
    "can be found with the following algorithm:\n",
    "\n",
    "1. Fix a PDE operator $F(u, \\theta)$ and loss functional $\\mathcal{L}(\\theta) = L(u_\\theta, \\theta)$\n",
    "2. Compute $\\frac{\\partial F}{\\partial u}$ and $\\frac{\\partial L}{\\partial u}$\n",
    "3. Solve the linear system $\\frac{\\partial F}{\\partial u}^* v = \\frac{\\partial L}{\\partial u}^*$ for $v$\n",
    "4. For any $\\theta$ compute $\\frac{\\partial F}{\\partial \\theta}$ and use \\eqref{conjgrad} to obtain\n",
    "\n",
    "$$\n",
    "\\boxed{\n",
    "    \\frac{d\\mathcal{L}}{d\\theta} = -v^* \\frac{\\partial F}{\\partial \\theta}\n",
    "}.\n",
    "$$\n",
    "\n",
    "Note the loss gradient is well-defined provided $\\frac{\\partial F}{\\partial u}$ has full rank."
   ]
  },
  {
   "cell_type": "markdown",
   "metadata": {},
   "source": [
    "## Example: The constant force Poisson equation"
   ]
  },
  {
   "cell_type": "markdown",
   "metadata": {},
   "source": [
    "Let's return to the Poisson equation defined in `poisson_encoder_example.ipynb`:\n",
    "\n",
    "$$\n",
    "\\begin{align*}\n",
    "    -\\Delta u &= c \\quad\\text{on}\\quad [0,1] \\\\\n",
    "    u(0) &= u_0 \\\\\n",
    "    u(1) &= u_1\n",
    "\\end{align*}\n",
    "$$\n",
    "\n",
    "where $\\theta = c$ is a constant parameter.\n",
    "Recall the analytic solution,\n",
    "which can be seen as an explicit function of $c$, is \n",
    "\n",
    "$$\n",
    "    u_c(x) = -\\frac{c}{2} x^2 + \\left( \\frac{c}{2} + u_1 - u_0 \\right) x + u_0.\n",
    "$$"
   ]
  },
  {
   "cell_type": "markdown",
   "metadata": {},
   "source": [
    "### Analytic Calculations"
   ]
  },
  {
   "cell_type": "markdown",
   "metadata": {},
   "source": [
    "#### Direct Gradient\n",
    "Since we have an analytic solution to the above Poisson equation,\n",
    "we can compute the loss gradient directly.\n",
    "Suppose our observation $u_\\text{obs}$ depends on \n",
    "some fixed true parameter $c_o$ so that\n",
    "$u_\\text{obs} = u_{c_o}$.\n",
    "We would like to see how the loss functional \n",
    "$\\mathcal{L}(c) = \\| u_c - u_\\text{obs} \\|_2^2$ \n",
    "varies with $c$.\n",
    "To that end, we readily compute\n",
    "\n",
    "$$\n",
    "    \\frac{d\\mathcal{L}}{dc} \n",
    "        = 2 \\int_0^1 \\! (u - u_\\text{obs})\\frac{du}{dc}\\, dx\n",
    "        = \\frac{c - c_o}{60}.\n",
    "$$"
   ]
  },
  {
   "cell_type": "markdown",
   "metadata": {},
   "source": [
    "#### Adjoint Method Gradient\n",
    "Here we identify $F(u, c) = \\Delta u + c$.\n",
    "Now, $\\frac{\\partial F}{\\partial u}$ is the best linear approximation \n",
    "to the (affine linear) operator $F$,\n",
    "so it follows that $\\frac{\\partial F}{\\partial u} = \\Delta$. \n",
    "To see this, observe\n",
    "\n",
    "$$\n",
    "\\begin{align*}\n",
    "    \\frac{\\partial F(u, c)}{\\partial u} &= \\lim_{h \\to 0} \\frac{F(u + hu, c) - F(u, c)}{h} \\\\\n",
    "        &= \\lim_{h \\to 0} \\frac{\\Delta(u + hu) + c - \\Delta(u) - c}{h} \\\\\n",
    "        &= \\Delta(u).\n",
    "\\end{align*}\n",
    "$$\n",
    "\n",
    "What's more, the Laplacian is known to be self-adjoint, i.e. \n",
    "$\\frac{\\partial F(u, c)}{\\partial u} = \\frac{\\partial F(u, c)}{\\partial u}^*$.\n",
    "\n",
    "The loss derivative is just as straightforward:\n",
    "\n",
    "$$\n",
    "    \\frac{\\partial L}{\\partial u} \n",
    "        = \\frac{\\partial}{\\partial u} \\int_0^1\\! (u - u_\\text{obs})^2\\, dx\n",
    "        = 2 \\int_0^1\\! (u - u_\\text{obs})\\, dx.\n",
    "$$\n",
    "\n",
    "Since $\\frac{\\partial F}{\\partial c} = 1$\n",
    "it is easy to see the loss gradient is\n",
    "\n",
    "$$\n",
    "    \\frac{d\\mathcal{L}}{dc} = -v^*\n",
    "$$\n",
    "\n",
    "where $v$ solves $\\Delta v = \\frac{\\partial L}{\\partial u}^*$."
   ]
  },
  {
   "cell_type": "markdown",
   "metadata": {},
   "source": [
    "### Numerical Implementation"
   ]
  },
  {
   "cell_type": "markdown",
   "metadata": {},
   "source": [
    "First a brief note on dimensions.\n",
    "Once we discretize this problem, all the derivatives\n",
    "have matrix representations.\n",
    "So let $\\theta \\in \\mathbb{R}^T$ and $u \\in \\mathbb{R}^U$.\n",
    "It naturally follows that \n",
    "$\\frac{\\partial F}{\\partial u} \\in \\mathbb{R}^{U\\times U}$,\n",
    "$\\frac{\\partial F}{\\partial \\theta}, \\frac{du}{d\\theta}\n",
    "\\in \\mathbb{R}^{U \\times T}$,\n",
    "$\\frac{\\partial L}{\\partial u} \\in \\mathbb{R}^{1 \\times U}$, and\n",
    "$\\frac{d\\mathcal{L}}{d\\theta} \\in \\mathbb{R}^{1 \\times T}$.\n",
    "\n",
    "With the analytic calculations complete, let's discretize.\n",
    "First we pick a resolution $N$ for the domain \n",
    "so we have a step size $dx = 1/N$.\n",
    "This gives a domain partition \n",
    "$\\{ x_0, \\ldots, x_N \\}$ where $x_n = \\frac{n}{N}$.\n",
    "Note we have Dirichlet boundary conditions so $U = N - 1$ here.\n",
    "Using central differences for second derivatives, the Laplacian\n",
    "becomes a $U \\times U$ tridiagonal matrix with entries \n",
    "$\\frac{(1, -2, 1)}{dx^2}$."
   ]
  },
  {
   "cell_type": "code",
   "execution_count": null,
   "metadata": {},
   "outputs": [],
   "source": [
    "N = 99      # discretization resolution\n",
    "dx = 1. / N # step size\n",
    "U = N - 1   # solution u dimension\n",
    "\n",
    "# dF/du: discrete Laplacian\n",
    "diag = [1., -2., 1.]\n",
    "diag = [x / dx ** 2 for x in diag]\n",
    "Delta = diags(diag, \n",
    "              [-1, 0, 1], \n",
    "              (U, U),\n",
    "              format='csr')"
   ]
  },
  {
   "cell_type": "markdown",
   "metadata": {},
   "source": [
    "Now let's pick boundary conditions $u_0 = -1$ and $u_1 = 1$ with\n",
    "ground truth parameter $c_o = 4$ and a guess $c = 2$, \n",
    "so that $\\frac{d \\mathcal{L}}{dc} = -\\frac{1}{30}$."
   ]
  },
  {
   "cell_type": "code",
   "execution_count": null,
   "metadata": {},
   "outputs": [],
   "source": [
    "u0 = -1.    # left boundary value\n",
    "u1 = 1.     # right boundary value\n",
    "c_obs = 4.  # ground truth theta\n",
    "c_hat = 2.  # estimated theta\n",
    "\n",
    "# compute ground truth u_obs and estimate u_hat\n",
    "u_obs = np.zeros((U, 1))\n",
    "u_hat = u_obs.copy()\n",
    "x = np.linspace(dx, 1. - dx, U)\n",
    "x = np.reshape(x, u_obs.shape)\n",
    "# add quadratic, linear, and intercept terms\n",
    "u_obs += -c_obs / 2 * x ** 2 \n",
    "u_hat += -c_hat / 2 * x ** 2\n",
    "u_obs += (c_obs / 2 + u1 - u0) * x\n",
    "u_hat += (c_hat / 2 + u1 - u0) * x\n",
    "u_obs += u0\n",
    "u_hat += u0"
   ]
  },
  {
   "cell_type": "markdown",
   "metadata": {},
   "source": [
    "Now we simply compute $\\frac{\\partial L}{\\partial u}$ \n",
    "and solve $\\Delta v = \\frac{\\partial L}{\\partial u}^*$ for $v$,\n",
    "and dot $v$ with $\\frac{\\partial F}{\\partial c} = 1$."
   ]
  },
  {
   "cell_type": "code",
   "execution_count": null,
   "metadata": {},
   "outputs": [],
   "source": [
    "# dL/du* has shape U by 1\n",
    "dLdu_adj = 2. * (u_hat - u_obs) * dx\n",
    "\n",
    "# solve for the adjoint variable v\n",
    "v = spsolve(Delta, dLdu_adj)\n",
    "\n",
    "# dF/dc has shape U by 1\n",
    "dFdc = np.ones((U, 1))\n",
    "\n",
    "# grad = -v* dF/dc\n",
    "gradient = -v.T.dot(dFdc)\n",
    "print(gradient.item())"
   ]
  },
  {
   "cell_type": "markdown",
   "metadata": {},
   "source": [
    "Awesome! This is very close to the theoretical gradient of $-1/30$.\n",
    "Let's use this to converge to the true parameter value\n",
    "using gradient descent algorithm:\n",
    "$$\n",
    "    c_\\text{new} = c_\\text{old} - \\gamma \\frac{d\\mathcal{L}}{dc}\n",
    "$$\n",
    "for some learning rate $\\gamma$.\n",
    "For convenience, I've wrapped the above code into a\n",
    "class named `autoencoder.adjoint.Poisson`.\n",
    "We initialize the class by providing the true parameter\n",
    "and boundary values, then call the `plot_gradient_descent`\n",
    "method with an initial guess at $\\theta$, the learning rate $\\gamma$,\n",
    "and some acceptable distance from the truth to end the descent."
   ]
  },
  {
   "cell_type": "code",
   "execution_count": null,
   "metadata": {},
   "outputs": [],
   "source": [
    "from autoencoder.adjoint import Poisson\n",
    "pois_grad = Poisson(theta=4., u0=-1., u1=1.)\n",
    "pois_grad.plot_gradient_descent(theta_init=2., gamma=10., tol=1e-4)"
   ]
  },
  {
   "cell_type": "markdown",
   "metadata": {},
   "source": [
    "Just for fun, let's bump the learning rate up by an order of magnitude.\n",
    "We should expect faster convergence, but also overshooting the optimum."
   ]
  },
  {
   "cell_type": "code",
   "execution_count": null,
   "metadata": {},
   "outputs": [],
   "source": [
    "pois_grad.plot_gradient_descent(2., 100., 1e-4)"
   ]
  },
  {
   "cell_type": "markdown",
   "metadata": {},
   "source": [
    "## Bonus Example: learning the boundary conditions"
   ]
  },
  {
   "cell_type": "markdown",
   "metadata": {},
   "source": [
    "Thus far we have assumed the boundary values $u_0$ and $u_1$ are known.\n",
    "But what if we let them vary?\n",
    "Well, at no point in the derivation of the adjoint method did we \n",
    "need $F$ to be a _differential_ operator. \n",
    "So let's rewrite $F$ as a system of operator equations:\n",
    "\n",
    "$$\n",
    "\\begin{align*}\n",
    "    F(u, c) &= \\Delta u + c \\\\\n",
    "    F_0(u, u_0) &= \\left( u_0 - u_\\text{obs}(0) \\right)^2 \\\\\n",
    "    F_1(u, u_1) &= \\left( u_1 - u_\\text{obs}(1) \\right)^2\n",
    "\\end{align*}\n",
    "$$\n",
    "\n",
    "For $i=1,2$ we can apply the limit definition \n",
    "of the derviative to compute \n",
    "$\\frac{\\partial F_i}{\\partial u} = 2(u_i - u_\\text{obs}(i))$.\n",
    "We also update the loss functional with mass on the boundary:\n",
    "$$\n",
    "    L(u, \\theta) = \\| u - u_\\text{obs} \\|^2_2 + ( u_0 - u_\\text{obs}(0) )^2 + ( u_1 - u_\\text{obs}(1) )^2\n",
    "$$\n",
    "\n",
    "Note this does not change the loss in the discrete setting.\n",
    "What does change is we have two more equations to solve for the\n",
    "two additional values of the adjoint variable associated with $u$:\n",
    "\n",
    "$$\n",
    "\\begin{align*}\n",
    "    v_i &= \\frac{2}{u_i} \\int_0^1\\! (u - u_\\text{obs})\\, dx, \\quad i=1,2\n",
    "\\end{align*}\n",
    "$$\n",
    "\n",
    "Since $\\frac{\\partial F_i}{\\partial u_i} = -1$ we can easily compute\n",
    "the loss gradient:\n",
    "\n",
    "$$\n",
    "    \\frac{d\\mathcal{L}}{d\\theta} = (-v^*, v_0^*, v_1^*)\n",
    "$$\n",
    "\n",
    "where $v^*$ is the same as before."
   ]
  },
  {
   "cell_type": "code",
   "execution_count": 1,
   "metadata": {},
   "outputs": [],
   "source": [
    "# notebook dependencies\n",
    "import numpy as np\n",
    "from scipy.sparse import diags\n",
    "from scipy.sparse.linalg import spsolve\n",
    "import matplotlib.pyplot as plt"
   ]
  },
  {
   "cell_type": "code",
   "execution_count": null,
   "metadata": {},
   "outputs": [],
   "source": [
    "from autoencoder.adjoint import Poisson\n",
    "\n",
    "pois_grad_bc = Poisson([4., 1., -1.])\n",
    "pois_grad_bc.get_gradient([2., 1., -1.])"
   ]
  },
  {
   "cell_type": "code",
   "execution_count": null,
   "metadata": {},
   "outputs": [],
   "source": [
    "pois_grad_bc.plot_gradient_descent([2., -1., 1.], 0.1, 1e-2)"
   ]
  },
  {
   "cell_type": "code",
   "execution_count": 2,
   "metadata": {},
   "outputs": [],
   "source": [
    "N = 99      # discretization resolution\n",
    "dx = 1. / N # step size\n",
    "U = N - 1   # solution u dimension\n",
    "\n",
    "theta_true = np.array([4., 1., -1.])  # ground truth\n",
    "theta_hat = np.array([2., -1., 1.])   # guesstimates\n",
    "\n",
    "# dF/du: discrete Laplacian\n",
    "diag = [-1., 2., -1.]\n",
    "diag = [x / dx ** 2 for x in diag]\n",
    "Lap = diags(diag, \n",
    "            [-1, 0, 1], \n",
    "            (U, U),\n",
    "            format='csr').toarray()\n",
    "Lap = np.array(Lap)"
   ]
  },
  {
   "cell_type": "code",
   "execution_count": 3,
   "metadata": {},
   "outputs": [],
   "source": [
    "# compute ground truth u_obs and estimate u_hat\n",
    "def solver(theta):\n",
    "    x = np.linspace(0, 1., U).reshape(U, 1)\n",
    "    soln = x.copy()\n",
    "    c, u0, u1 = theta.flatten()\n",
    "    # add quadratic, linear, and intercept terms\n",
    "    soln += -c / 2 * x ** 2 \n",
    "    soln += (c / 2 + u1 - u0) * x\n",
    "    soln += u0\n",
    "    assert soln.shape == (U, 1)\n",
    "    return soln\n",
    "data = solver(theta_true)\n",
    "u = solver(theta_hat)"
   ]
  },
  {
   "cell_type": "code",
   "execution_count": 4,
   "metadata": {},
   "outputs": [],
   "source": [
    "# do gradient descent \n",
    "def gradient(theta_hat, theta_true):\n",
    "    u = solver(theta_hat)\n",
    "    data = solver(theta_true)\n",
    "    # dL/du* has shape U by 1\n",
    "    dJdu = u - data\n",
    "    \n",
    "    # solve for the adjoint variable lambda\n",
    "    lamb = np.linalg.solve(Lap, dJdu)\n",
    "    \n",
    "    # now that we have lambda, solve for mu0 and mu1\n",
    "    mu0 = -lamb[0] / dx\n",
    "    mu1 = -lamb[-1] / dx\n",
    "    \n",
    "    # now dJ/dtheta = lambda* dF/dtheta + mu* dG/dtheta\n",
    "    #               = (lambda*, -mu0*, -mu1*)\n",
    "    dFdtheta = np.zeros((U, 3))\n",
    "    dFdtheta[:,0] = 1.\n",
    "    \n",
    "    dGdtheta = np.zeros((1,3))\n",
    "    dGdtheta[:,1] = -mu0\n",
    "    dGdtheta[:,2] = -mu1\n",
    "    \n",
    "    dJdtheta = lamb.T.dot(dFdtheta) + dGdtheta\n",
    "    return dJdtheta"
   ]
  },
  {
   "cell_type": "code",
   "execution_count": 32,
   "metadata": {},
   "outputs": [
    {
     "name": "stdout",
     "output_type": "stream",
     "text": [
      "1\n",
      "[array([[ 2., -1.,  1.]])]\n",
      "[[ 2. -1.  1.]]\n",
      "2\n",
      "[array([[ 2., -1.,  1.]])]\n",
      "[[ 2.40820577 -0.89709813  0.93791871]]\n",
      "3\n",
      "[array([[ 2., -1.,  1.]])]\n",
      "[[ 2.69100364 -0.80429     0.87254853]]\n",
      "4\n",
      "[array([[ 2., -1.,  1.]])]\n",
      "[[ 2.88778915 -0.71932751  0.8058569 ]]\n",
      "5\n",
      "[array([[ 2., -1.,  1.]])]\n",
      "[[ 3.02557027 -0.64063119  0.7391542 ]]\n",
      "6\n",
      "[array([[ 2., -1.,  1.]])]\n",
      "[[ 3.12286269 -0.56708152  0.67330195]]\n",
      "7\n",
      "[array([[ 2., -1.,  1.]])]\n",
      "[[ 3.19236031 -0.49787584  0.60885545]]\n",
      "8\n",
      "[array([[ 2., -1.,  1.]])]\n",
      "[[ 3.24276585 -0.43243013  0.54616158]]\n",
      "9\n",
      "[array([[ 2., -1.,  1.]])]\n",
      "[[ 3.28004594 -0.37031167  0.48542566]]\n",
      "10\n",
      "[array([[ 2., -1.,  1.]])]\n",
      "[[ 3.30829145 -0.31119282  0.42675737]]\n"
     ]
    }
   ],
   "source": [
    "theta_true = np.array([4., 1., -1.])  # ground truth\n",
    "theta_hat = np.array([2., -1., 1.])   # guesstimates\n",
    "theta_new = theta_hat.reshape(1,3)\n",
    "gamma = 0.25\n",
    "tol = 1e-4 # stop when gradient change is below this\n",
    "theta_diff = np.abs(theta_new - theta_true)\n",
    "max_iter = 400\n",
    "its = 0\n",
    "thetas = []\n",
    "while its < max_iter and tol < theta_diff.all():\n",
    "    thetas.append(theta_new.copy())\n",
    "    gradJ = gradient(theta_new, theta_true)\n",
    "    if its < 10:\n",
    "        print(len(thetas))\n",
    "        print(thetas[0:1])\n",
    "        print(theta_new)\n",
    "    theta_new -= gamma * gradJ\n",
    "    theta_diff = np.abs(theta_new - theta_true)\n",
    "    its += 1\n",
    "    total_grad = np.sum(np.abs(gradJ))"
   ]
  },
  {
   "cell_type": "code",
   "execution_count": 37,
   "metadata": {},
   "outputs": [
    {
     "data": {
      "text/plain": [
       "array([[ 2.        , -1.        ,  1.        ],\n",
       "       [ 2.40820577, -0.89709813,  0.93791871],\n",
       "       [ 2.69100364, -0.80429   ,  0.87254853],\n",
       "       ...,\n",
       "       [ 3.99651932,  1.00032178, -0.999678  ],\n",
       "       [ 3.99656591,  1.00031747, -0.99968232],\n",
       "       [ 3.99661188,  1.00031323, -0.99968657]])"
      ]
     },
     "execution_count": 37,
     "metadata": {},
     "output_type": "execute_result"
    }
   ],
   "source": [
    "thetas"
   ]
  },
  {
   "cell_type": "code",
   "execution_count": 36,
   "metadata": {},
   "outputs": [
    {
     "data": {
      "image/png": "[encoded data removed]",
      "text/plain": [
       "<Figure size 3600x1600 with 3 Axes>"
      ]
     },
     "metadata": {
      "needs_background": "light"
     },
     "output_type": "display_data"
    }
   ],
   "source": [
    "# plot the descent\n",
    "thetas = np.squeeze(np.array(thetas))\n",
    "fig, ax = plt.subplots(1, 3, figsize=(18,8), dpi=200)\n",
    "indices = [x + 1 for x in range(thetas.shape[0])]\n",
    "for i in range(3):\n",
    "    ax[i].plot(indices, thetas[:,i], linewidth=3)\n",
    "plt.show()\n",
    "plt.close()"
   ]
  },
  {
   "cell_type": "code",
   "execution_count": 40,
   "metadata": {},
   "outputs": [
    {
     "data": {
      "text/plain": [
       "array([[ 3.99985006,  1.00001387, -0.99998613],\n",
       "       [ 3.99985006,  1.00001387, -0.99998613],\n",
       "       [ 3.99985006,  1.00001387, -0.99998613]])"
      ]
     },
     "execution_count": 40,
     "metadata": {},
     "output_type": "execute_result"
    }
   ],
   "source": [
    "thetas[0:3]"
   ]
  },
  {
   "cell_type": "markdown",
   "metadata": {},
   "source": [
    "When $\\theta = (c, u_1)$ a direct calculation yields\n",
    "$$\n",
    "    \\frac{d\\mathcal{L}}{d\\theta} = \n",
    "        \\begin{pmatrix}\n",
    "            1/60 & 1/12 \\\\ 1/12 & 8/3\n",
    "        \\end{pmatrix}\n",
    "        \\begin{pmatrix}\n",
    "            c - c' \\\\ u_1 - u_1'\n",
    "        \\end{pmatrix}\n",
    "$$"
   ]
  },
  {
   "cell_type": "code",
   "execution_count": 10,
   "metadata": {},
   "outputs": [],
   "source": [
    "# direct gradient descent\n",
    "theta_prime = np.array([4.0, -1.0])\n",
    "theta = np.array([2.0, -1.0])\n",
    "def gradient(theta, theta_prime):\n",
    "    theta_diff = theta - theta_prime\n",
    "    coefs1 = np.array([1./60, 1./12])\n",
    "    coefs2 = np.array([1./12, 8./3])\n",
    "    dLdt1 = coefs1.dot(theta_diff)\n",
    "    dLdt2 = coefs2.dot(theta_diff)\n",
    "    gradient = np.array([dLdt1, dLdt2])\n",
    "    return gradient"
   ]
  },
  {
   "cell_type": "code",
   "execution_count": null,
   "metadata": {},
   "outputs": [],
   "source": [
    "gamma = 0.6\n",
    "theta_new = theta\n",
    "print('theta', theta_new)\n",
    "for _ in range(300):\n",
    "    gradL = gradient(theta_new, theta_prime)\n",
    "    theta_new -= gamma * gradL\n",
    "    print('theta', theta_new)"
   ]
  },
  {
   "cell_type": "markdown",
   "metadata": {},
   "source": [
    "When $\\theta = (c, u_0, u_1)$ a direct calculation yields\n",
    "\n",
    "$$\n",
    "    \\frac{d\\mathcal{L}}{d\\theta} = \n",
    "        \\begin{pmatrix}\n",
    "            1/60 & 1/12 & 1/12 \\\\ 1/12 &  8/3 & 1/3 \\\\ 1/12 & 1/3 & 8/3\n",
    "        \\end{pmatrix}\n",
    "        \\begin{pmatrix}\n",
    "            c - c' \\\\ u_0 - u_0' \\\\ u_1 - u_1'\n",
    "        \\end{pmatrix}\n",
    "$$"
   ]
  },
  {
   "cell_type": "code",
   "execution_count": null,
   "metadata": {},
   "outputs": [],
   "source": [
    "# direct gradient descent\n",
    "theta_prime = np.array([4.0, 1.0, -1.0])\n",
    "theta = np.array([2.0, -1.0, 1.0])\n",
    "def gradient(theta, theta_prime):\n",
    "    theta_diff = theta - theta_prime\n",
    "    coefs = np.array([[1./60, 1./12, 1./12], \n",
    "                      [1./12, 8./3, 1./3], \n",
    "                      [1./12, 1./3, 8./3]])\n",
    "    gradient = coefs.dot(theta_diff)\n",
    "    return gradient\n",
    "\n",
    "gamma = 0.5\n",
    "theta_new = theta\n",
    "print('theta', theta_new)\n",
    "for _ in range(100):\n",
    "    gradL = gradient(theta_new, theta_prime)\n",
    "    if _ == 0: print('grad', gradL)\n",
    "    theta_new -= gamma * gradL\n",
    "    print('theta', theta_new)"
   ]
  },
  {
   "cell_type": "code",
   "execution_count": null,
   "metadata": {},
   "outputs": [],
   "source": []
  }
 ],
 "metadata": {
  "kernelspec": {
   "display_name": "Python 3",
   "language": "python",
   "name": "python3"
  },
  "language_info": {
   "codemirror_mode": {
    "name": "ipython",
    "version": 3
   },
   "file_extension": ".py",
   "mimetype": "text/x-python",
   "name": "python",
   "nbconvert_exporter": "python",
   "pygments_lexer": "ipython3",
   "version": "3.7.6"
  }
 },
 "nbformat": 4,
 "nbformat_minor": 4
}
